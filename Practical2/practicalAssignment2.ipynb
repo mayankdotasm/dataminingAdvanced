{
  "cells": [
    {
      "cell_type": "markdown",
      "metadata": {
        "colab_type": "text",
        "id": "view-in-github"
      },
      "source": [
        "<a href=\"https://colab.research.google.com/github/mayankdotasm/dataminingAdvanced/blob/main/Assignment_2_dm.ipynb\" target=\"_parent\"><img src=\"https://colab.research.google.com/assets/colab-badge.svg\" alt=\"Open In Colab\"/></a>"
      ]
    },
    {
      "cell_type": "markdown",
      "metadata": {},
      "source": [
        "#  `Data Mining II: Assignment-01`\n",
        "\n",
        "\n",
        "- **By:** Mayank Kumar\n",
        "- **Course:** Computer Science (Hons)\n",
        "- **SEM:** V\n",
        "\n",
        "###### Date: 25-09-2024"
      ]
    },
    {
      "cell_type": "code",
      "execution_count": 1,
      "metadata": {
        "colab": {
          "base_uri": "https://localhost:8080/"
        },
        "id": "n3NeNBsP244K",
        "outputId": "7a979822-1d39-48fb-ffd2-76a7d89dfa86"
      },
      "outputs": [
        {
          "name": "stdout",
          "output_type": "stream",
          "text": [
            "Collecting ucimlrepo\n",
            "  Downloading ucimlrepo-0.0.7-py3-none-any.whl.metadata (5.5 kB)\n",
            "Requirement already satisfied: pandas>=1.0.0 in /usr/local/lib/python3.10/dist-packages (from ucimlrepo) (2.1.4)\n",
            "Requirement already satisfied: certifi>=2020.12.5 in /usr/local/lib/python3.10/dist-packages (from ucimlrepo) (2024.8.30)\n",
            "Requirement already satisfied: numpy<2,>=1.22.4 in /usr/local/lib/python3.10/dist-packages (from pandas>=1.0.0->ucimlrepo) (1.26.4)\n",
            "Requirement already satisfied: python-dateutil>=2.8.2 in /usr/local/lib/python3.10/dist-packages (from pandas>=1.0.0->ucimlrepo) (2.8.2)\n",
            "Requirement already satisfied: pytz>=2020.1 in /usr/local/lib/python3.10/dist-packages (from pandas>=1.0.0->ucimlrepo) (2024.2)\n",
            "Requirement already satisfied: tzdata>=2022.1 in /usr/local/lib/python3.10/dist-packages (from pandas>=1.0.0->ucimlrepo) (2024.1)\n",
            "Requirement already satisfied: six>=1.5 in /usr/local/lib/python3.10/dist-packages (from python-dateutil>=2.8.2->pandas>=1.0.0->ucimlrepo) (1.16.0)\n",
            "Downloading ucimlrepo-0.0.7-py3-none-any.whl (8.0 kB)\n",
            "Installing collected packages: ucimlrepo\n",
            "Successfully installed ucimlrepo-0.0.7\n"
          ]
        }
      ],
      "source": [
        "! pip install ucimlrepo"
      ]
    },
    {
      "cell_type": "markdown",
      "metadata": {
        "id": "tEKJCUq4wlwo"
      },
      "source": [
        "## Imporing dataset and pre processing"
      ]
    },
    {
      "cell_type": "code",
      "execution_count": 2,
      "metadata": {
        "id": "yo8Y0rznwlwx"
      },
      "outputs": [],
      "source": [
        "# Fetch data\n",
        "from ucimlrepo import fetch_ucirepo\n",
        "waveform_database_generator_version_1 = fetch_ucirepo(id=107)\n",
        "\n",
        "# Extract data\n",
        "X = waveform_database_generator_version_1.data.features\n",
        "y = waveform_database_generator_version_1.data.targets\n",
        "name = \"waveform_database_generator_version_1\""
      ]
    },
    {
      "cell_type": "code",
      "execution_count": 3,
      "metadata": {
        "id": "QGIiujbOwlw4"
      },
      "outputs": [],
      "source": [
        "import pandas as pd\n",
        "import numpy as np\n",
        "df = pd.concat([X, y], axis=1)"
      ]
    },
    {
      "cell_type": "code",
      "execution_count": 4,
      "metadata": {
        "colab": {
          "base_uri": "https://localhost:8080/"
        },
        "id": "xITapz4swlw7",
        "outputId": "0d4d39f9-e71f-474f-bca0-fff8dfb670ae"
      },
      "outputs": [
        {
          "data": {
            "text/plain": [
              "Index(['class'], dtype='object')"
            ]
          },
          "execution_count": 4,
          "metadata": {},
          "output_type": "execute_result"
        }
      ],
      "source": [
        "y.columns"
      ]
    },
    {
      "cell_type": "code",
      "execution_count": 5,
      "metadata": {
        "colab": {
          "base_uri": "https://localhost:8080/"
        },
        "id": "lYkG0oMPwlw8",
        "outputId": "70373890-b42d-466e-9ba1-591eeb38d54e"
      },
      "outputs": [
        {
          "name": "stdout",
          "output_type": "stream",
          "text": [
            "Dataset: waveform_database_generator_version_1\n",
            "Number of rows: 5000 (after dropping nulls)\n",
            "Number of columns: 22\n",
            "Number of classes: 3\n",
            "Number of null values: 0 (after cleaning)\n",
            "------------------------------\n"
          ]
        }
      ],
      "source": [
        "num_null_values = df.isnull().sum().sum()  # Total number of null values\n",
        "num_classes = df['class'].nunique() if 'class' in df.columns else \"Unknown\"  # Number of classes based on 'target' column\n",
        "\n",
        "# Drop rows with null values\n",
        "df = df.dropna()\n",
        "\n",
        "print(f\"Dataset: {name}\")\n",
        "print(f\"Number of rows: {df.shape[0]} (after dropping nulls)\")\n",
        "print(f\"Number of columns: {df.shape[1]}\")\n",
        "print(f\"Number of classes: {num_classes}\")\n",
        "print(f\"Number of null values: {df.isnull().sum().sum()} (after cleaning)\")\n",
        "print('-' * 30)\n"
      ]
    },
    {
      "cell_type": "code",
      "execution_count": 5,
      "metadata": {
        "id": "huUz5RLo-O9P"
      },
      "outputs": [],
      "source": []
    },
    {
      "cell_type": "markdown",
      "metadata": {
        "id": "vUYmfLTiwlw8"
      },
      "source": [
        "# 1. Use the Decision Tree classification algorithm to construct a classifier on two datasets. Evaluate the classifier's performance by dividing the dataset into a training set (75%) and a test set (25%). Compare the performance with that of:\n",
        "- Bagging ensemble consisting of 3,5,7,9 Decision tree classifiers\n",
        "- Adaboost ensemble consisting of 3,5,7,9 Decision tree classifiers"
      ]
    },
    {
      "cell_type": "code",
      "execution_count": 6,
      "metadata": {
        "id": "7FaHillJwlw9"
      },
      "outputs": [],
      "source": [
        "from sklearn.model_selection import train_test_split\n",
        "from sklearn.preprocessing import StandardScaler\n",
        "from sklearn.tree import DecisionTreeClassifier\n",
        "from sklearn.ensemble import BaggingClassifier, AdaBoostClassifier\n",
        "from sklearn.metrics import accuracy_score, precision_score, recall_score, f1_score\n",
        "from sklearn.ensemble import RandomForestClassifier"
      ]
    },
    {
      "cell_type": "code",
      "execution_count": 7,
      "metadata": {
        "id": "wfcXFXUOwlw-"
      },
      "outputs": [],
      "source": [
        "X_train, X_test, y_train, y_test = train_test_split(X, y, test_size=0.30, random_state=42) # 70-20 split; 30 test size\n",
        "\n",
        "# Standardize features\n",
        "scaler = StandardScaler()\n",
        "X_train_scaled = scaler.fit_transform(X_train)\n",
        "X_test_scaled = scaler.transform(X_test)"
      ]
    },
    {
      "cell_type": "code",
      "execution_count": 8,
      "metadata": {
        "id": "nwf2pnECwlw_"
      },
      "outputs": [],
      "source": [
        "results = []\n",
        "def evaluate_model(model, model_name):\n",
        "    model.fit(X_train_scaled, y_train)\n",
        "    y_pred = model.predict(X_test_scaled)\n",
        "    accuracy = accuracy_score(y_test, y_pred)\n",
        "    precision = precision_score(y_test, y_pred, average='weighted')\n",
        "    recall = recall_score(y_test, y_pred, average='weighted')\n",
        "    f1 = f1_score(y_test, y_pred, average='weighted')\n",
        "    results.append([model_name, accuracy, precision, recall, f1])"
      ]
    },
    {
      "cell_type": "code",
      "execution_count": 9,
      "metadata": {
        "id": "75jMrwFfwlxA"
      },
      "outputs": [],
      "source": [
        "dt = DecisionTreeClassifier(random_state=42)\n",
        "evaluate_model(dt, 'Decision Tree')"
      ]
    },
    {
      "cell_type": "code",
      "execution_count": 10,
      "metadata": {
        "id": "eyVBcIxEwlxA"
      },
      "outputs": [],
      "source": [
        "import warnings\n",
        "warnings.filterwarnings(\"ignore\")"
      ]
    },
    {
      "cell_type": "code",
      "execution_count": 11,
      "metadata": {
        "id": "zT6A3MukwlxC"
      },
      "outputs": [],
      "source": [
        "# Bagging with different numbers of estimators\n",
        "for n_estimators in [3, 5, 7, 9]:\n",
        "    bagging = BaggingClassifier(estimator=DecisionTreeClassifier(), n_estimators=n_estimators, random_state=42)\n",
        "    evaluate_model(bagging, f'Bagging (n={n_estimators})')"
      ]
    },
    {
      "cell_type": "code",
      "execution_count": 12,
      "metadata": {
        "id": "JA0SWlS3wlxD"
      },
      "outputs": [],
      "source": [
        "# AdaBoost with different numbers of estimators\n",
        "for n_estimators in [3, 5, 7, 9]:\n",
        "    adaboost = AdaBoostClassifier(DecisionTreeClassifier(), n_estimators=n_estimators, random_state=42)\n",
        "    evaluate_model(adaboost, f'AdaBoost (n={n_estimators})')"
      ]
    },
    {
      "cell_type": "code",
      "execution_count": 13,
      "metadata": {
        "colab": {
          "base_uri": "https://localhost:8080/",
          "height": 332
        },
        "id": "RmmkbDm7wlxE",
        "outputId": "5dc2195c-4d33-4241-f196-8875ab1df4a5"
      },
      "outputs": [
        {
          "data": {
            "application/vnd.google.colaboratory.intrinsic+json": {
              "summary": "{\n  \"name\": \"results_df\",\n  \"rows\": 9,\n  \"fields\": [\n    {\n      \"column\": \"Model\",\n      \"properties\": {\n        \"dtype\": \"string\",\n        \"num_unique_values\": 9,\n        \"samples\": [\n          \"AdaBoost (n=7)\",\n          \"Bagging (n=3)\",\n          \"AdaBoost (n=3)\"\n        ],\n        \"semantic_type\": \"\",\n        \"description\": \"\"\n      }\n    },\n    {\n      \"column\": \"Accuracy\",\n      \"properties\": {\n        \"dtype\": \"number\",\n        \"std\": 0.02203532517471786,\n        \"min\": 0.764,\n        \"max\": 0.824,\n        \"num_unique_values\": 6,\n        \"samples\": [\n          0.764,\n          0.788,\n          0.772\n        ],\n        \"semantic_type\": \"\",\n        \"description\": \"\"\n      }\n    },\n    {\n      \"column\": \"Precision\",\n      \"properties\": {\n        \"dtype\": \"number\",\n        \"std\": 0.022055341803067098,\n        \"min\": 0.7638376169464282,\n        \"max\": 0.823862155552941,\n        \"num_unique_values\": 6,\n        \"samples\": [\n          0.7638376169464282,\n          0.7880024053929829,\n          0.771832711808216\n        ],\n        \"semantic_type\": \"\",\n        \"description\": \"\"\n      }\n    },\n    {\n      \"column\": \"Recall\",\n      \"properties\": {\n        \"dtype\": \"number\",\n        \"std\": 0.02203532517471786,\n        \"min\": 0.764,\n        \"max\": 0.824,\n        \"num_unique_values\": 6,\n        \"samples\": [\n          0.764,\n          0.788,\n          0.772\n        ],\n        \"semantic_type\": \"\",\n        \"description\": \"\"\n      }\n    },\n    {\n      \"column\": \"F1-Score\",\n      \"properties\": {\n        \"dtype\": \"number\",\n        \"std\": 0.022005602751533668,\n        \"min\": 0.7638127137049577,\n        \"max\": 0.8237946417103255,\n        \"num_unique_values\": 6,\n        \"samples\": [\n          0.7638127137049577,\n          0.7879024069956431,\n          0.7718873339978005\n        ],\n        \"semantic_type\": \"\",\n        \"description\": \"\"\n      }\n    }\n  ]\n}",
              "type": "dataframe",
              "variable_name": "results_df"
            },
            "text/html": [
              "\n",
              "  <div id=\"df-7fb8be3d-5c6e-42b4-9e75-5a4f8d16599b\" class=\"colab-df-container\">\n",
              "    <div>\n",
              "<style scoped>\n",
              "    .dataframe tbody tr th:only-of-type {\n",
              "        vertical-align: middle;\n",
              "    }\n",
              "\n",
              "    .dataframe tbody tr th {\n",
              "        vertical-align: top;\n",
              "    }\n",
              "\n",
              "    .dataframe thead th {\n",
              "        text-align: right;\n",
              "    }\n",
              "</style>\n",
              "<table border=\"1\" class=\"dataframe\">\n",
              "  <thead>\n",
              "    <tr style=\"text-align: right;\">\n",
              "      <th></th>\n",
              "      <th>Model</th>\n",
              "      <th>Accuracy</th>\n",
              "      <th>Precision</th>\n",
              "      <th>Recall</th>\n",
              "      <th>F1-Score</th>\n",
              "    </tr>\n",
              "  </thead>\n",
              "  <tbody>\n",
              "    <tr>\n",
              "      <th>0</th>\n",
              "      <td>Decision Tree</td>\n",
              "      <td>0.764000</td>\n",
              "      <td>0.763838</td>\n",
              "      <td>0.764000</td>\n",
              "      <td>0.763813</td>\n",
              "    </tr>\n",
              "    <tr>\n",
              "      <th>1</th>\n",
              "      <td>Bagging (n=3)</td>\n",
              "      <td>0.788000</td>\n",
              "      <td>0.788002</td>\n",
              "      <td>0.788000</td>\n",
              "      <td>0.787902</td>\n",
              "    </tr>\n",
              "    <tr>\n",
              "      <th>2</th>\n",
              "      <td>Bagging (n=5)</td>\n",
              "      <td>0.801333</td>\n",
              "      <td>0.801206</td>\n",
              "      <td>0.801333</td>\n",
              "      <td>0.801158</td>\n",
              "    </tr>\n",
              "    <tr>\n",
              "      <th>3</th>\n",
              "      <td>Bagging (n=7)</td>\n",
              "      <td>0.816667</td>\n",
              "      <td>0.816559</td>\n",
              "      <td>0.816667</td>\n",
              "      <td>0.816466</td>\n",
              "    </tr>\n",
              "    <tr>\n",
              "      <th>4</th>\n",
              "      <td>Bagging (n=9)</td>\n",
              "      <td>0.824000</td>\n",
              "      <td>0.823862</td>\n",
              "      <td>0.824000</td>\n",
              "      <td>0.823795</td>\n",
              "    </tr>\n",
              "    <tr>\n",
              "      <th>5</th>\n",
              "      <td>AdaBoost (n=3)</td>\n",
              "      <td>0.772000</td>\n",
              "      <td>0.771833</td>\n",
              "      <td>0.772000</td>\n",
              "      <td>0.771887</td>\n",
              "    </tr>\n",
              "    <tr>\n",
              "      <th>6</th>\n",
              "      <td>AdaBoost (n=5)</td>\n",
              "      <td>0.772000</td>\n",
              "      <td>0.771833</td>\n",
              "      <td>0.772000</td>\n",
              "      <td>0.771887</td>\n",
              "    </tr>\n",
              "    <tr>\n",
              "      <th>7</th>\n",
              "      <td>AdaBoost (n=7)</td>\n",
              "      <td>0.772000</td>\n",
              "      <td>0.771833</td>\n",
              "      <td>0.772000</td>\n",
              "      <td>0.771887</td>\n",
              "    </tr>\n",
              "    <tr>\n",
              "      <th>8</th>\n",
              "      <td>AdaBoost (n=9)</td>\n",
              "      <td>0.772000</td>\n",
              "      <td>0.771833</td>\n",
              "      <td>0.772000</td>\n",
              "      <td>0.771887</td>\n",
              "    </tr>\n",
              "  </tbody>\n",
              "</table>\n",
              "</div>\n",
              "    <div class=\"colab-df-buttons\">\n",
              "\n",
              "  <div class=\"colab-df-container\">\n",
              "    <button class=\"colab-df-convert\" onclick=\"convertToInteractive('df-7fb8be3d-5c6e-42b4-9e75-5a4f8d16599b')\"\n",
              "            title=\"Convert this dataframe to an interactive table.\"\n",
              "            style=\"display:none;\">\n",
              "\n",
              "  <svg xmlns=\"http://www.w3.org/2000/svg\" height=\"24px\" viewBox=\"0 -960 960 960\">\n",
              "    <path d=\"M120-120v-720h720v720H120Zm60-500h600v-160H180v160Zm220 220h160v-160H400v160Zm0 220h160v-160H400v160ZM180-400h160v-160H180v160Zm440 0h160v-160H620v160ZM180-180h160v-160H180v160Zm440 0h160v-160H620v160Z\"/>\n",
              "  </svg>\n",
              "    </button>\n",
              "\n",
              "  <style>\n",
              "    .colab-df-container {\n",
              "      display:flex;\n",
              "      gap: 12px;\n",
              "    }\n",
              "\n",
              "    .colab-df-convert {\n",
              "      background-color: #E8F0FE;\n",
              "      border: none;\n",
              "      border-radius: 50%;\n",
              "      cursor: pointer;\n",
              "      display: none;\n",
              "      fill: #1967D2;\n",
              "      height: 32px;\n",
              "      padding: 0 0 0 0;\n",
              "      width: 32px;\n",
              "    }\n",
              "\n",
              "    .colab-df-convert:hover {\n",
              "      background-color: #E2EBFA;\n",
              "      box-shadow: 0px 1px 2px rgba(60, 64, 67, 0.3), 0px 1px 3px 1px rgba(60, 64, 67, 0.15);\n",
              "      fill: #174EA6;\n",
              "    }\n",
              "\n",
              "    .colab-df-buttons div {\n",
              "      margin-bottom: 4px;\n",
              "    }\n",
              "\n",
              "    [theme=dark] .colab-df-convert {\n",
              "      background-color: #3B4455;\n",
              "      fill: #D2E3FC;\n",
              "    }\n",
              "\n",
              "    [theme=dark] .colab-df-convert:hover {\n",
              "      background-color: #434B5C;\n",
              "      box-shadow: 0px 1px 3px 1px rgba(0, 0, 0, 0.15);\n",
              "      filter: drop-shadow(0px 1px 2px rgba(0, 0, 0, 0.3));\n",
              "      fill: #FFFFFF;\n",
              "    }\n",
              "  </style>\n",
              "\n",
              "    <script>\n",
              "      const buttonEl =\n",
              "        document.querySelector('#df-7fb8be3d-5c6e-42b4-9e75-5a4f8d16599b button.colab-df-convert');\n",
              "      buttonEl.style.display =\n",
              "        google.colab.kernel.accessAllowed ? 'block' : 'none';\n",
              "\n",
              "      async function convertToInteractive(key) {\n",
              "        const element = document.querySelector('#df-7fb8be3d-5c6e-42b4-9e75-5a4f8d16599b');\n",
              "        const dataTable =\n",
              "          await google.colab.kernel.invokeFunction('convertToInteractive',\n",
              "                                                    [key], {});\n",
              "        if (!dataTable) return;\n",
              "\n",
              "        const docLinkHtml = 'Like what you see? Visit the ' +\n",
              "          '<a target=\"_blank\" href=https://colab.research.google.com/notebooks/data_table.ipynb>data table notebook</a>'\n",
              "          + ' to learn more about interactive tables.';\n",
              "        element.innerHTML = '';\n",
              "        dataTable['output_type'] = 'display_data';\n",
              "        await google.colab.output.renderOutput(dataTable, element);\n",
              "        const docLink = document.createElement('div');\n",
              "        docLink.innerHTML = docLinkHtml;\n",
              "        element.appendChild(docLink);\n",
              "      }\n",
              "    </script>\n",
              "  </div>\n",
              "\n",
              "\n",
              "<div id=\"df-3d7cc524-8052-4baf-bc06-5276e3a679d8\">\n",
              "  <button class=\"colab-df-quickchart\" onclick=\"quickchart('df-3d7cc524-8052-4baf-bc06-5276e3a679d8')\"\n",
              "            title=\"Suggest charts\"\n",
              "            style=\"display:none;\">\n",
              "\n",
              "<svg xmlns=\"http://www.w3.org/2000/svg\" height=\"24px\"viewBox=\"0 0 24 24\"\n",
              "     width=\"24px\">\n",
              "    <g>\n",
              "        <path d=\"M19 3H5c-1.1 0-2 .9-2 2v14c0 1.1.9 2 2 2h14c1.1 0 2-.9 2-2V5c0-1.1-.9-2-2-2zM9 17H7v-7h2v7zm4 0h-2V7h2v10zm4 0h-2v-4h2v4z\"/>\n",
              "    </g>\n",
              "</svg>\n",
              "  </button>\n",
              "\n",
              "<style>\n",
              "  .colab-df-quickchart {\n",
              "      --bg-color: #E8F0FE;\n",
              "      --fill-color: #1967D2;\n",
              "      --hover-bg-color: #E2EBFA;\n",
              "      --hover-fill-color: #174EA6;\n",
              "      --disabled-fill-color: #AAA;\n",
              "      --disabled-bg-color: #DDD;\n",
              "  }\n",
              "\n",
              "  [theme=dark] .colab-df-quickchart {\n",
              "      --bg-color: #3B4455;\n",
              "      --fill-color: #D2E3FC;\n",
              "      --hover-bg-color: #434B5C;\n",
              "      --hover-fill-color: #FFFFFF;\n",
              "      --disabled-bg-color: #3B4455;\n",
              "      --disabled-fill-color: #666;\n",
              "  }\n",
              "\n",
              "  .colab-df-quickchart {\n",
              "    background-color: var(--bg-color);\n",
              "    border: none;\n",
              "    border-radius: 50%;\n",
              "    cursor: pointer;\n",
              "    display: none;\n",
              "    fill: var(--fill-color);\n",
              "    height: 32px;\n",
              "    padding: 0;\n",
              "    width: 32px;\n",
              "  }\n",
              "\n",
              "  .colab-df-quickchart:hover {\n",
              "    background-color: var(--hover-bg-color);\n",
              "    box-shadow: 0 1px 2px rgba(60, 64, 67, 0.3), 0 1px 3px 1px rgba(60, 64, 67, 0.15);\n",
              "    fill: var(--button-hover-fill-color);\n",
              "  }\n",
              "\n",
              "  .colab-df-quickchart-complete:disabled,\n",
              "  .colab-df-quickchart-complete:disabled:hover {\n",
              "    background-color: var(--disabled-bg-color);\n",
              "    fill: var(--disabled-fill-color);\n",
              "    box-shadow: none;\n",
              "  }\n",
              "\n",
              "  .colab-df-spinner {\n",
              "    border: 2px solid var(--fill-color);\n",
              "    border-color: transparent;\n",
              "    border-bottom-color: var(--fill-color);\n",
              "    animation:\n",
              "      spin 1s steps(1) infinite;\n",
              "  }\n",
              "\n",
              "  @keyframes spin {\n",
              "    0% {\n",
              "      border-color: transparent;\n",
              "      border-bottom-color: var(--fill-color);\n",
              "      border-left-color: var(--fill-color);\n",
              "    }\n",
              "    20% {\n",
              "      border-color: transparent;\n",
              "      border-left-color: var(--fill-color);\n",
              "      border-top-color: var(--fill-color);\n",
              "    }\n",
              "    30% {\n",
              "      border-color: transparent;\n",
              "      border-left-color: var(--fill-color);\n",
              "      border-top-color: var(--fill-color);\n",
              "      border-right-color: var(--fill-color);\n",
              "    }\n",
              "    40% {\n",
              "      border-color: transparent;\n",
              "      border-right-color: var(--fill-color);\n",
              "      border-top-color: var(--fill-color);\n",
              "    }\n",
              "    60% {\n",
              "      border-color: transparent;\n",
              "      border-right-color: var(--fill-color);\n",
              "    }\n",
              "    80% {\n",
              "      border-color: transparent;\n",
              "      border-right-color: var(--fill-color);\n",
              "      border-bottom-color: var(--fill-color);\n",
              "    }\n",
              "    90% {\n",
              "      border-color: transparent;\n",
              "      border-bottom-color: var(--fill-color);\n",
              "    }\n",
              "  }\n",
              "</style>\n",
              "\n",
              "  <script>\n",
              "    async function quickchart(key) {\n",
              "      const quickchartButtonEl =\n",
              "        document.querySelector('#' + key + ' button');\n",
              "      quickchartButtonEl.disabled = true;  // To prevent multiple clicks.\n",
              "      quickchartButtonEl.classList.add('colab-df-spinner');\n",
              "      try {\n",
              "        const charts = await google.colab.kernel.invokeFunction(\n",
              "            'suggestCharts', [key], {});\n",
              "      } catch (error) {\n",
              "        console.error('Error during call to suggestCharts:', error);\n",
              "      }\n",
              "      quickchartButtonEl.classList.remove('colab-df-spinner');\n",
              "      quickchartButtonEl.classList.add('colab-df-quickchart-complete');\n",
              "    }\n",
              "    (() => {\n",
              "      let quickchartButtonEl =\n",
              "        document.querySelector('#df-3d7cc524-8052-4baf-bc06-5276e3a679d8 button');\n",
              "      quickchartButtonEl.style.display =\n",
              "        google.colab.kernel.accessAllowed ? 'block' : 'none';\n",
              "    })();\n",
              "  </script>\n",
              "</div>\n",
              "\n",
              "  <div id=\"id_e0f63d5f-b1ca-456e-aacc-5290028ca291\">\n",
              "    <style>\n",
              "      .colab-df-generate {\n",
              "        background-color: #E8F0FE;\n",
              "        border: none;\n",
              "        border-radius: 50%;\n",
              "        cursor: pointer;\n",
              "        display: none;\n",
              "        fill: #1967D2;\n",
              "        height: 32px;\n",
              "        padding: 0 0 0 0;\n",
              "        width: 32px;\n",
              "      }\n",
              "\n",
              "      .colab-df-generate:hover {\n",
              "        background-color: #E2EBFA;\n",
              "        box-shadow: 0px 1px 2px rgba(60, 64, 67, 0.3), 0px 1px 3px 1px rgba(60, 64, 67, 0.15);\n",
              "        fill: #174EA6;\n",
              "      }\n",
              "\n",
              "      [theme=dark] .colab-df-generate {\n",
              "        background-color: #3B4455;\n",
              "        fill: #D2E3FC;\n",
              "      }\n",
              "\n",
              "      [theme=dark] .colab-df-generate:hover {\n",
              "        background-color: #434B5C;\n",
              "        box-shadow: 0px 1px 3px 1px rgba(0, 0, 0, 0.15);\n",
              "        filter: drop-shadow(0px 1px 2px rgba(0, 0, 0, 0.3));\n",
              "        fill: #FFFFFF;\n",
              "      }\n",
              "    </style>\n",
              "    <button class=\"colab-df-generate\" onclick=\"generateWithVariable('results_df')\"\n",
              "            title=\"Generate code using this dataframe.\"\n",
              "            style=\"display:none;\">\n",
              "\n",
              "  <svg xmlns=\"http://www.w3.org/2000/svg\" height=\"24px\"viewBox=\"0 0 24 24\"\n",
              "       width=\"24px\">\n",
              "    <path d=\"M7,19H8.4L18.45,9,17,7.55,7,17.6ZM5,21V16.75L18.45,3.32a2,2,0,0,1,2.83,0l1.4,1.43a1.91,1.91,0,0,1,.58,1.4,1.91,1.91,0,0,1-.58,1.4L9.25,21ZM18.45,9,17,7.55Zm-12,3A5.31,5.31,0,0,0,4.9,8.1,5.31,5.31,0,0,0,1,6.5,5.31,5.31,0,0,0,4.9,4.9,5.31,5.31,0,0,0,6.5,1,5.31,5.31,0,0,0,8.1,4.9,5.31,5.31,0,0,0,12,6.5,5.46,5.46,0,0,0,6.5,12Z\"/>\n",
              "  </svg>\n",
              "    </button>\n",
              "    <script>\n",
              "      (() => {\n",
              "      const buttonEl =\n",
              "        document.querySelector('#id_e0f63d5f-b1ca-456e-aacc-5290028ca291 button.colab-df-generate');\n",
              "      buttonEl.style.display =\n",
              "        google.colab.kernel.accessAllowed ? 'block' : 'none';\n",
              "\n",
              "      buttonEl.onclick = () => {\n",
              "        google.colab.notebook.generateWithVariable('results_df');\n",
              "      }\n",
              "      })();\n",
              "    </script>\n",
              "  </div>\n",
              "\n",
              "    </div>\n",
              "  </div>\n"
            ],
            "text/plain": [
              "            Model  Accuracy  Precision    Recall  F1-Score\n",
              "0   Decision Tree  0.764000   0.763838  0.764000  0.763813\n",
              "1   Bagging (n=3)  0.788000   0.788002  0.788000  0.787902\n",
              "2   Bagging (n=5)  0.801333   0.801206  0.801333  0.801158\n",
              "3   Bagging (n=7)  0.816667   0.816559  0.816667  0.816466\n",
              "4   Bagging (n=9)  0.824000   0.823862  0.824000  0.823795\n",
              "5  AdaBoost (n=3)  0.772000   0.771833  0.772000  0.771887\n",
              "6  AdaBoost (n=5)  0.772000   0.771833  0.772000  0.771887\n",
              "7  AdaBoost (n=7)  0.772000   0.771833  0.772000  0.771887\n",
              "8  AdaBoost (n=9)  0.772000   0.771833  0.772000  0.771887"
            ]
          },
          "execution_count": 13,
          "metadata": {},
          "output_type": "execute_result"
        }
      ],
      "source": [
        "\n",
        "results_df = pd.DataFrame(results, columns=['Model', 'Accuracy', 'Precision', 'Recall', 'F1-Score'])\n",
        "results_df"
      ]
    },
    {
      "cell_type": "code",
      "execution_count": 14,
      "metadata": {
        "colab": {
          "base_uri": "https://localhost:8080/",
          "height": 572
        },
        "id": "6bn191LgUxgE",
        "outputId": "efd8689e-0ede-4073-b0fa-ba7e2c721472"
      },
      "outputs": [
        {
          "data": {
            "image/png": "[encoded data removed]",
            "text/plain": [
              "<Figure size 1600x600 with 1 Axes>"
            ]
          },
          "metadata": {},
          "output_type": "display_data"
        }
      ],
      "source": [
        "import matplotlib.pyplot as plt\n",
        "import numpy as np\n",
        "\n",
        "# Define the models and metrics\n",
        "models = results_df['Model']\n",
        "metrics = ['Accuracy', 'Precision', 'Recall', 'F1-Score']\n",
        "\n",
        "# Set the figure size\n",
        "plt.figure(figsize=(16, 6))\n",
        "\n",
        "# Set width for the bars\n",
        "bar_width = 0.2  # Reduced bar width for better spacing\n",
        "\n",
        "# Define the position of the bars on the x-axis\n",
        "x_pos = np.arange(len(models))\n",
        "\n",
        "# Loop through each metric and create a set of bars for each\n",
        "for i, metric in enumerate(metrics):\n",
        "    # Get the values for the current metric\n",
        "    values = results_df[metric].values\n",
        "\n",
        "    # Create a bar plot for each metric\n",
        "    bars = plt.bar(x_pos + i * bar_width, values, width=bar_width, label=metric)\n",
        "\n",
        "    # Annotate each bar with its value (vertically)\n",
        "    for bar in bars:\n",
        "        yval = bar.get_height()\n",
        "        plt.text(bar.get_x() + bar.get_width() / 2.0, yval + 0.01, f'{yval:.4f}',\n",
        "                 ha='center', va='bottom', rotation=90)\n",
        "\n",
        "# Set the y-axis limits from 0 to 1\n",
        "plt.ylim(0, 1.1)\n",
        "\n",
        "# Add labels, title, and customize the plot\n",
        "plt.xticks(x_pos + bar_width * (len(metrics) - 1) / 2, models, rotation=45, ha='right')\n",
        "plt.xlabel('Models')\n",
        "plt.ylabel('Scores')\n",
        "plt.title('Performance Comparison of Models')\n",
        "plt.legend(title='Metrics', fontsize=7)\n",
        "\n",
        "# Display the plot\n",
        "plt.tight_layout()\n",
        "plt.show()\n"
      ]
    },
    {
      "cell_type": "markdown",
      "metadata": {
        "id": "EQsnV5Evzgh2"
      },
      "source": [
        "# 2. For any 10 datasets (from table 6.5) compare accuracy, precision, Recall and  Fmeasure of Decision tree, Bagging and Boosting, Random Forest. Clearly mention the parameters values used for each case and show results in a tabular form"
      ]
    },
    {
      "cell_type": "markdown",
      "metadata": {
        "id": "APNoi3yg3dqN"
      },
      "source": [
        "## Importing Datasets and Preprocessing"
      ]
    },
    {
      "cell_type": "code",
      "execution_count": 15,
      "metadata": {
        "id": "kcDZgk2G36xS"
      },
      "outputs": [],
      "source": [
        "import pandas as pd\n",
        "from ucimlrepo import fetch_ucirepo\n",
        "\n",
        "def load_dataset_all(name):\n",
        "    dataset_ids = {\n",
        "        'australia': 143, #\n",
        "        'sonar': 151, #\n",
        "        'zoo': 111, #\n",
        "        'breast': 15, #\n",
        "        'waveform': 107, #\n",
        "        'vehicle': 149, #\n",
        "        'ionosphere': 52, #\n",
        "        'auto': 10, #\n",
        "        'heart': 145, #\n",
        "        'glass': 42, #\n",
        "    }\n",
        "\n",
        "    try:\n",
        "        if name not in dataset_ids:\n",
        "            raise ValueError(\"Unknown dataset\")\n",
        "\n",
        "        # Fetch the dataset using its ID\n",
        "        dataset = fetch_ucirepo(id=dataset_ids[name])\n",
        "\n",
        "        # Handle different structures for dataset features and targets\n",
        "        if hasattr(dataset.data, 'features'):\n",
        "            X = dataset.data.features\n",
        "        elif hasattr(dataset.data, 'data'):\n",
        "            X = dataset.data.data  # Some datasets may have this structure\n",
        "        else:\n",
        "            raise RuntimeError(f\"Could not find features for dataset {name}\")\n",
        "\n",
        "        if hasattr(dataset.data, 'targets'):\n",
        "            y = dataset.data.targets\n",
        "        elif hasattr(dataset, 'target'):\n",
        "            y = dataset.target  # Some datasets may have targets here\n",
        "        else:\n",
        "            raise RuntimeError(f\"Could not find target for dataset {name}\")\n",
        "\n",
        "\n",
        "        if 'features' in dataset.variables:\n",
        "            feature_names = dataset.variables['features']\n",
        "            df = pd.DataFrame(data=X, columns=feature_names)\n",
        "        else:\n",
        "            df = pd.DataFrame(data=X)\n",
        "\n",
        "\n",
        "        df['target'] = y\n",
        "\n",
        "        return df  # Return the DataFrame of the dataset\n",
        "\n",
        "    except Exception as e:\n",
        "        raise RuntimeError(f\"Error loading dataset {name}: {e}\")\n",
        "\n",
        "\n",
        "dataset_names = ['australia',\n",
        "                 'sonar',\n",
        "                 'zoo',\n",
        "                 'breast',\n",
        "                 'waveform',\n",
        "                 'vehicle',\n",
        "                 'ionosphere',\n",
        "                 'auto',\n",
        "                 'heart',\n",
        "                 'glass'\n",
        "                 ]\n",
        "\n",
        "datasets = []\n",
        "\n",
        "for name in dataset_names:\n",
        "    try:\n",
        "        datasets.append(load_dataset_all(name))\n",
        "    except RuntimeError as e:\n",
        "        print(e)"
      ]
    },
    {
      "cell_type": "code",
      "execution_count": 16,
      "metadata": {
        "colab": {
          "base_uri": "https://localhost:8080/"
        },
        "id": "Vb2JWyx74nj8",
        "outputId": "c8d54eda-f331-4ffe-d0a0-56e606709990"
      },
      "outputs": [
        {
          "name": "stdout",
          "output_type": "stream",
          "text": [
            "10\n"
          ]
        }
      ],
      "source": [
        "print(len(datasets))"
      ]
    },
    {
      "cell_type": "code",
      "execution_count": 17,
      "metadata": {
        "colab": {
          "base_uri": "https://localhost:8080/"
        },
        "id": "573l3cPM4p8b",
        "outputId": "90971f13-e7e1-4839-a23c-fb1292e99e67"
      },
      "outputs": [
        {
          "name": "stdout",
          "output_type": "stream",
          "text": [
            "Dataset: australia\n",
            "Number of rows: 690\n",
            "Number of columns: 15\n",
            "Number of classes: 2\n",
            "Number of null values: 0\n",
            "------------------------------\n",
            "Dataset: sonar\n",
            "Number of rows: 208\n",
            "Number of columns: 61\n",
            "Number of classes: 2\n",
            "Number of null values: 0\n",
            "------------------------------\n",
            "Dataset: zoo\n",
            "Number of rows: 101\n",
            "Number of columns: 17\n",
            "Number of classes: 7\n",
            "Number of null values: 0\n",
            "------------------------------\n",
            "Dataset: breast\n",
            "Number of rows: 699\n",
            "Number of columns: 10\n",
            "Number of classes: 2\n",
            "Number of null values: 16\n",
            "------------------------------\n",
            "Dataset: waveform\n",
            "Number of rows: 5000\n",
            "Number of columns: 22\n",
            "Number of classes: 3\n",
            "Number of null values: 0\n",
            "------------------------------\n",
            "Dataset: vehicle\n",
            "Number of rows: 846\n",
            "Number of columns: 19\n",
            "Number of classes: 5\n",
            "Number of null values: 1\n",
            "------------------------------\n",
            "Dataset: ionosphere\n",
            "Number of rows: 351\n",
            "Number of columns: 35\n",
            "Number of classes: 2\n",
            "Number of null values: 0\n",
            "------------------------------\n",
            "Dataset: auto\n",
            "Number of rows: 205\n",
            "Number of columns: 26\n",
            "Number of classes: 6\n",
            "Number of null values: 59\n",
            "------------------------------\n",
            "Dataset: heart\n",
            "Number of rows: 270\n",
            "Number of columns: 14\n",
            "Number of classes: 2\n",
            "Number of null values: 0\n",
            "------------------------------\n",
            "Dataset: glass\n",
            "Number of rows: 214\n",
            "Number of columns: 10\n",
            "Number of classes: 6\n",
            "Number of null values: 0\n",
            "------------------------------\n"
          ]
        }
      ],
      "source": [
        "for name, df in zip(dataset_names, datasets):\n",
        "    print(f\"Dataset: {name}\")\n",
        "    print(f\"Number of rows: {df.shape[0]}\")\n",
        "    print(f\"Number of columns: {df.shape[1]}\")\n",
        "    print(f\"Number of classes: {len(df['target'].unique())}\")\n",
        "    print(f\"Number of null values: {df.isnull().sum().sum()}\")\n",
        "    print('-' * 30)\n"
      ]
    },
    {
      "cell_type": "code",
      "execution_count": 18,
      "metadata": {
        "colab": {
          "base_uri": "https://localhost:8080/"
        },
        "id": "LhPBWfGC9bM8",
        "outputId": "9d4c052d-a44b-47a2-9dcb-63aaf0cb6363"
      },
      "outputs": [
        {
          "name": "stdout",
          "output_type": "stream",
          "text": [
            "Dataset: australia\n",
            "Number of rows: 690 (after dropping nulls)\n",
            "Number of columns: 15\n",
            "Number of classes: 2\n",
            "Number of null values: 0 (after cleaning)\n",
            "------------------------------\n",
            "Dataset: sonar\n",
            "Number of rows: 208 (after dropping nulls)\n",
            "Number of columns: 61\n",
            "Number of classes: 2\n",
            "Number of null values: 0 (after cleaning)\n",
            "------------------------------\n",
            "Dataset: zoo\n",
            "Number of rows: 101 (after dropping nulls)\n",
            "Number of columns: 17\n",
            "Number of classes: 7\n",
            "Number of null values: 0 (after cleaning)\n",
            "------------------------------\n",
            "Dataset: breast\n",
            "Number of rows: 683 (after dropping nulls)\n",
            "Number of columns: 10\n",
            "Number of classes: 2\n",
            "Number of null values: 0 (after cleaning)\n",
            "------------------------------\n",
            "Dataset: waveform\n",
            "Number of rows: 5000 (after dropping nulls)\n",
            "Number of columns: 22\n",
            "Number of classes: 3\n",
            "Number of null values: 0 (after cleaning)\n",
            "------------------------------\n",
            "Dataset: vehicle\n",
            "Number of rows: 845 (after dropping nulls)\n",
            "Number of columns: 19\n",
            "Number of classes: 5\n",
            "Number of null values: 0 (after cleaning)\n",
            "------------------------------\n",
            "Dataset: ionosphere\n",
            "Number of rows: 351 (after dropping nulls)\n",
            "Number of columns: 35\n",
            "Number of classes: 2\n",
            "Number of null values: 0 (after cleaning)\n",
            "------------------------------\n",
            "Dataset: auto\n",
            "Number of rows: 159 (after dropping nulls)\n",
            "Number of columns: 26\n",
            "Number of classes: 6\n",
            "Number of null values: 0 (after cleaning)\n",
            "------------------------------\n",
            "Dataset: heart\n",
            "Number of rows: 270 (after dropping nulls)\n",
            "Number of columns: 14\n",
            "Number of classes: 2\n",
            "Number of null values: 0 (after cleaning)\n",
            "------------------------------\n",
            "Dataset: glass\n",
            "Number of rows: 214 (after dropping nulls)\n",
            "Number of columns: 10\n",
            "Number of classes: 6\n",
            "Number of null values: 0 (after cleaning)\n",
            "------------------------------\n"
          ]
        }
      ],
      "source": [
        "# Function to count null values, drop null rows, and print dataset info\n",
        "def clean_and_print_dataset_info(datasets, dataset_names):\n",
        "    cleaned_datasets = []  # To store cleaned datasets\n",
        "    for name, df in zip(dataset_names, datasets):\n",
        "        num_null_values = df.isnull().sum().sum()  # Total number of null values\n",
        "        num_classes = df['target'].nunique() if 'target' in df.columns else \"Unknown\"  # Number of classes based on 'target' column\n",
        "\n",
        "        # Drop rows with null values\n",
        "        df_cleaned = df.dropna()\n",
        "        cleaned_datasets.append(df_cleaned)  # Store cleaned dataset\n",
        "\n",
        "        print(f\"Dataset: {name}\")\n",
        "        print(f\"Number of rows: {df_cleaned.shape[0]} (after dropping nulls)\")\n",
        "        print(f\"Number of columns: {df_cleaned.shape[1]}\")\n",
        "        print(f\"Number of classes: {num_classes}\")\n",
        "        print(f\"Number of null values: {df_cleaned.isnull().sum().sum()} (after cleaning)\")\n",
        "        print('-' * 30)\n",
        "\n",
        "    return cleaned_datasets\n",
        "\n",
        "cleaned_datasets = clean_and_print_dataset_info(datasets, dataset_names)\n"
      ]
    },
    {
      "cell_type": "markdown",
      "metadata": {
        "id": "TwswPRfBC3IS"
      },
      "source": [
        "## TRAIN MODEL"
      ]
    },
    {
      "cell_type": "code",
      "execution_count": 18,
      "metadata": {
        "id": "GsjbjhMn_U7z"
      },
      "outputs": [],
      "source": []
    },
    {
      "cell_type": "code",
      "execution_count": 19,
      "metadata": {
        "id": "__kjWXXM_cQ3"
      },
      "outputs": [],
      "source": [
        "from sklearn.ensemble import RandomForestClassifier\n",
        "\n",
        "def evaluate_model(model, model_name,X_train_scaled, X_test_scaled, y_train, y_test):\n",
        "    model.fit(X_train_scaled, y_train)\n",
        "    y_pred = model.predict(X_test_scaled)\n",
        "    accuracy = accuracy_score(y_test, y_pred)\n",
        "    precision = precision_score(y_test, y_pred, average='weighted')\n",
        "    recall = recall_score(y_test, y_pred, average='weighted')\n",
        "    f1 = f1_score(y_test, y_pred, average='weighted')\n",
        "    return [model_name, accuracy, precision, recall, f1]\n",
        "\n",
        "\n",
        "def train_and_evaluate_models(i,dataset, n_estimators=80,random_state=42):   #n_estimators=80,random_state=42\n",
        "  X = dataset.drop('target', axis=1)\n",
        "  X = X.select_dtypes(include=['number'])\n",
        "  y = dataset['target']\n",
        "  X_train, X_test, y_train, y_test = train_test_split(X, y, test_size=0.25, random_state=42)  #test_size=0.25, random_state=42\n",
        "\n",
        "  scaler = StandardScaler()\n",
        "  X_train_scaled = scaler.fit_transform(X_train)\n",
        "  X_test_scaled = scaler.transform(X_test)\n",
        "\n",
        "  classifiers = {\n",
        "      'Random Forest': RandomForestClassifier(),\n",
        "      'Decision Tree': DecisionTreeClassifier(),\n",
        "      'bagging' : BaggingClassifier(estimator=DecisionTreeClassifier(), n_estimators=n_estimators, random_state=random_state),\n",
        "      'adaboost' : AdaBoostClassifier(DecisionTreeClassifier(), n_estimators=n_estimators, random_state=random_state)\n",
        "    }\n",
        "\n",
        "  results = []\n",
        "  for name, clf in classifiers.items():\n",
        "    #print(f\"Training {name}...\")\n",
        "    results.append(evaluate_model(clf, name,X_train_scaled, X_test_scaled, y_train, y_test))\n",
        "\n",
        "\n",
        "  results_df = pd.DataFrame(results, columns=['Model', 'Accuracy', 'Precision', 'Recall', 'F1-Score'])\n",
        "  return results_df"
      ]
    },
    {
      "cell_type": "code",
      "execution_count": 20,
      "metadata": {
        "colab": {
          "base_uri": "https://localhost:8080/"
        },
        "id": "_BTOga6U_cQ4",
        "outputId": "7ce4ab17-33f7-4f4a-df44-69c8667d261e"
      },
      "outputs": [
        {
          "name": "stdout",
          "output_type": "stream",
          "text": [
            "Dataset: australia\n",
            "Dataset: sonar\n",
            "Dataset: zoo\n",
            "Dataset: breast\n",
            "Dataset: waveform\n",
            "Dataset: vehicle\n",
            "Dataset: ionosphere\n",
            "Dataset: auto\n",
            "Dataset: heart\n",
            "Dataset: glass\n"
          ]
        }
      ],
      "source": [
        "final_result=[]\n",
        "for i,dataset in enumerate(cleaned_datasets):\n",
        "  #if i!=2:\n",
        "  print(f\"Dataset: {dataset_names[i]}\")\n",
        "  final_result.append(train_and_evaluate_models(i,dataset)) #n_estimators=80, random_state=42, test_size=0.25"
      ]
    },
    {
      "cell_type": "code",
      "execution_count": 21,
      "metadata": {
        "colab": {
          "base_uri": "https://localhost:8080/"
        },
        "id": "WKUAlz96_cQ4",
        "outputId": "c4df318f-e46f-4e10-c782-20a80ad7fca9"
      },
      "outputs": [
        {
          "name": "stdout",
          "output_type": "stream",
          "text": [
            "Dataset: australia\n",
            "           Model  Accuracy  Precision    Recall  F1-Score\n",
            "0  Random Forest  0.872832   0.872184  0.872832  0.872012\n",
            "1  Decision Tree  0.838150   0.837393  0.838150  0.837655\n",
            "2        bagging  0.855491   0.857176  0.855491  0.856070\n",
            "3       adaboost  0.820809   0.819636  0.820809  0.819964\n",
            "Dataset: sonar\n",
            "           Model  Accuracy  Precision    Recall  F1-Score\n",
            "0  Random Forest  0.865385   0.866740  0.865385  0.865740\n",
            "1  Decision Tree  0.692308   0.713599  0.692308  0.693675\n",
            "2        bagging  0.826923   0.834359  0.826923  0.827892\n",
            "3       adaboost  0.692308   0.713599  0.692308  0.693675\n",
            "Dataset: zoo\n",
            "           Model  Accuracy  Precision    Recall  F1-Score\n",
            "0  Random Forest  0.961538   0.935897  0.961538  0.946154\n",
            "1  Decision Tree  0.923077   0.910256  0.923077  0.908791\n",
            "2        bagging  0.923077   0.910256  0.923077  0.908791\n",
            "3       adaboost  0.923077   0.910256  0.923077  0.908791\n",
            "Dataset: breast\n",
            "           Model  Accuracy  Precision    Recall  F1-Score\n",
            "0  Random Forest  0.959064   0.960225  0.959064  0.958768\n",
            "1  Decision Tree  0.941520   0.942964  0.941520  0.940998\n",
            "2        bagging  0.964912   0.965640  0.964912  0.964715\n",
            "3       adaboost  0.941520   0.944534  0.941520  0.940786\n",
            "Dataset: waveform\n",
            "           Model  Accuracy  Precision  Recall  F1-Score\n",
            "0  Random Forest    0.8496   0.850571  0.8496  0.848992\n",
            "1  Decision Tree    0.7568   0.757313  0.7568  0.756991\n",
            "2        bagging    0.8424   0.842476  0.8424  0.842073\n",
            "3       adaboost    0.7576   0.757757  0.7576  0.757667\n",
            "Dataset: vehicle\n",
            "           Model  Accuracy  Precision    Recall  F1-Score\n",
            "0  Random Forest  0.773585   0.780573  0.773585  0.773078\n",
            "1  Decision Tree  0.679245   0.698616  0.679245  0.679103\n",
            "2        bagging  0.764151   0.776796  0.764151  0.761511\n",
            "3       adaboost  0.688679   0.715238  0.688679  0.690313\n",
            "Dataset: ionosphere\n",
            "           Model  Accuracy  Precision    Recall  F1-Score\n",
            "0  Random Forest  0.943182   0.944318  0.943182  0.942526\n",
            "1  Decision Tree  0.852273   0.860687  0.852273  0.845680\n",
            "2        bagging  0.920455   0.920152  0.920455  0.920175\n",
            "3       adaboost  0.897727   0.897667  0.897727  0.896546\n",
            "Dataset: auto\n",
            "           Model  Accuracy  Precision  Recall  F1-Score\n",
            "0  Random Forest     0.775   0.789205   0.775  0.772889\n",
            "1  Decision Tree     0.775   0.793304   0.775  0.780556\n",
            "2        bagging     0.775   0.789205   0.775  0.772889\n",
            "3       adaboost     0.725   0.740972   0.725  0.727729\n",
            "Dataset: heart\n",
            "           Model  Accuracy  Precision    Recall  F1-Score\n",
            "0  Random Forest  0.823529   0.824421  0.823529  0.820944\n",
            "1  Decision Tree  0.705882   0.714869  0.705882  0.707946\n",
            "2        bagging  0.794118   0.797256  0.794118  0.788947\n",
            "3       adaboost  0.676471   0.692042  0.676471  0.679009\n",
            "Dataset: glass\n",
            "           Model  Accuracy  Precision    Recall  F1-Score\n",
            "0  Random Forest  0.796296   0.820885  0.796296  0.787333\n",
            "1  Decision Tree  0.703704   0.744686  0.703704  0.687934\n",
            "2        bagging  0.740741   0.762654  0.740741  0.727454\n",
            "3       adaboost  0.703704   0.732591  0.703704  0.690472\n"
          ]
        }
      ],
      "source": [
        "for i in range(len(final_result)):\n",
        "  print(f\"Dataset: {dataset_names[i]}\")\n",
        "  print(final_result[i])"
      ]
    }
  ],
  "metadata": {
    "colab": {
      "include_colab_link": true,
      "provenance": [],
      "toc_visible": true
    },
    "kernelspec": {
      "display_name": "base",
      "language": "python",
      "name": "python3"
    },
    "language_info": {
      "codemirror_mode": {
        "name": "ipython",
        "version": 3
      },
      "file_extension": ".py",
      "mimetype": "text/x-python",
      "name": "python",
      "nbconvert_exporter": "python",
      "pygments_lexer": "ipython3",
      "version": "3.12.4"
    }
  },
  "nbformat": 4,
  "nbformat_minor": 0
}
